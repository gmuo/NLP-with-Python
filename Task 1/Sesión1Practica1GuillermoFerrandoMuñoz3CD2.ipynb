{
 "cells": [
  {
   "cell_type": "markdown",
   "metadata": {},
   "source": [
    "# LNR - Práctica 1\n",
    "## Sesión 1: Ejercicio repaso Python 3.x\n",
    "\n",
    "Nombre:\n",
    "- Guillermo Ferrando Muñoz"
   ]
  },
  {
   "cell_type": "markdown",
   "metadata": {},
   "source": [
    "Ejercicio 1:"
   ]
  },
  {
   "cell_type": "code",
   "execution_count": 1,
   "metadata": {},
   "outputs": [],
   "source": [
    "cadena = \"El/DT perro/N come/V carne/N de/P la/DT carnicería/N y/C de/P la/DT nevera/N y/C canta/V el/DT la/N la/N la/N ./Fp\""
   ]
  },
  {
   "cell_type": "code",
   "execution_count": 29,
   "metadata": {},
   "outputs": [
    {
     "name": "stdout",
     "output_type": "stream",
     "text": [
      "C 2\n",
      "DT 4\n",
      "Fp 1\n",
      "N 7\n",
      "P 2\n",
      "V 2\n"
     ]
    }
   ],
   "source": [
    " def ejercicio1(cadena):\n",
    "    dic={}\n",
    "    for j in cadena.split():\n",
    "        dic[j.split(\"/\")[1]]=cadena.count(j.split(\"/\")[1])\n",
    "        \n",
    "    d = dict(zip(sorted(dic.keys()), [i[1] for i in sorted(dic.items())]))\n",
    "    for k,v in d.items():\n",
    "        print(f\"{k} {v}\")\n",
    "\n",
    "ejercicio1(cadena)"
   ]
  },
  {
   "cell_type": "markdown",
   "metadata": {},
   "source": [
    "Ejercicio 2:"
   ]
  },
  {
   "cell_type": "code",
   "execution_count": 22,
   "metadata": {},
   "outputs": [
    {
     "name": "stdout",
     "output_type": "stream",
     "text": [
      ". 1 Fp 1\n",
      "canta 1 V 1\n",
      "carne 1 N 1\n",
      "carnicería 1 N 1\n",
      "come 1 V 1\n",
      "de 2 P 2\n",
      "el 2 DT 2\n",
      "la 5 DT 2\n",
      "la 5 N 3\n",
      "nevera 1 N 1\n",
      "perro 1 N 1\n",
      "y 2 C 2\n"
     ]
    },
    {
     "data": {
      "text/plain": [
       "{'.': [1, {'Fp': 1}],\n",
       " 'canta': [1, {'V': 1}],\n",
       " 'carne': [1, {'N': 1}],\n",
       " 'carnicería': [1, {'N': 1}],\n",
       " 'come': [1, {'V': 1}],\n",
       " 'de': [2, {'P': 2}],\n",
       " 'el': [2, {'DT': 2}],\n",
       " 'la': [5, {'DT': 2, 'N': 3}],\n",
       " 'nevera': [1, {'N': 1}],\n",
       " 'perro': [1, {'N': 1}],\n",
       " 'y': [2, {'C': 2}]}"
      ]
     },
     "execution_count": 22,
     "metadata": {},
     "output_type": "execute_result"
    }
   ],
   "source": [
    "def ejercicio2(cadena):\n",
    "    dic={}\n",
    "    listapals=[]\n",
    "    for j in cadena.split():\n",
    "        listapals.append((j.split(\"/\")[0],j.split(\"/\")[1]))\n",
    "    for i in listapals:\n",
    "        if i[0].lower() not in dic:\n",
    "            dic[i[0].lower()]=[1]\n",
    "            dic[i[0].lower()].append({})\n",
    "        else:\n",
    "            dic[i[0].lower()][0]+=1\n",
    "            \n",
    "    for i in listapals:\n",
    "        if i[1] not in dic[i[0].lower()][1]:\n",
    "            dic[i[0].lower()][1][i[1]]=1\n",
    "        else:\n",
    "            dic[i[0].lower()][1][i[1]]+=1\n",
    "    \n",
    "    d=dict(zip(sorted(dic.keys()), [i[1] for i in sorted(dic.items())]))\n",
    "\n",
    "    for k,v in d.items():\n",
    "        for k2,v2 in v[1].items():\n",
    "            print(f'{k} {v[0]} {k2} {v2}')\n",
    "            \n",
    "    return d\n",
    "\n",
    "ejercicio2(cadena)"
   ]
  },
  {
   "cell_type": "markdown",
   "metadata": {},
   "source": [
    "Ejercicio 3:"
   ]
  },
  {
   "cell_type": "code",
   "execution_count": 14,
   "metadata": {},
   "outputs": [],
   "source": [
    "newcadena = \"<S> El/DT perro/N come/V carne/N de/P la/DT carnicería/N y/C de/P la/DT nevera/N y/C canta/V el/DT la/N la/N la/N ./Fp </S>\""
   ]
  },
  {
   "cell_type": "code",
   "execution_count": 15,
   "metadata": {},
   "outputs": [
    {
     "name": "stdout",
     "output_type": "stream",
     "text": [
      "('<S>', 'DT') 1\n",
      "('C', 'P') 1\n",
      "('C', 'V') 1\n",
      "('DT', 'N') 4\n",
      "('Fp', '</S>') 1\n",
      "('N', 'C') 2\n",
      "('N', 'Fp') 1\n",
      "('N', 'N') 2\n",
      "('N', 'P') 1\n",
      "('N', 'V') 1\n",
      "('P', 'DT') 2\n",
      "('V', 'DT') 1\n",
      "('V', 'N') 1\n"
     ]
    }
   ],
   "source": [
    "def ejercicio3(cadena):\n",
    "    listapals=[]\n",
    "    listabigrams=[]\n",
    "    c=cadena.split()\n",
    "    \n",
    "    listapals.append(c[0])\n",
    "    for j in range(1,len(c)-1):\n",
    "        listapals.append((c[j].split(\"/\")[1]))\n",
    "    listapals.append(c[len(c)-1])\n",
    "   \n",
    "    for i in range(len(listapals)):\n",
    "        try: \n",
    "            listabigrams.append((listapals[i],listapals[i+1]))\n",
    "        except IndexError:\n",
    "            pass\n",
    "            \n",
    "    sbigrams=sorted(set(listabigrams))\n",
    "    for bigram in sbigrams:\n",
    "        print(f'{bigram} {listabigrams.count(bigram)}')\n",
    "\n",
    "ejercicio3(newcadena)"
   ]
  },
  {
   "cell_type": "markdown",
   "metadata": {},
   "source": [
    "Ejercicio 4:"
   ]
  },
  {
   "cell_type": "code",
   "execution_count": 37,
   "metadata": {},
   "outputs": [
    {
     "name": "stdout",
     "output_type": "stream",
     "text": [
      ". 1 Fp 1\n",
      "canta 1 V 1\n",
      "carne 1 N 1\n",
      "carnicería 1 N 1\n",
      "come 1 V 1\n",
      "de 2 P 2\n",
      "el 2 DT 2\n",
      "la 5 DT 2\n",
      "la 5 N 3\n",
      "nevera 1 N 1\n",
      "perro 1 N 1\n",
      "y 2 C 2\n"
     ]
    }
   ],
   "source": [
    "dik = ejercicio2(cadena)"
   ]
  },
  {
   "cell_type": "code",
   "execution_count": 38,
   "metadata": {},
   "outputs": [
    {
     "name": "stdout",
     "output_type": "stream",
     "text": [
      "P( DT | la )= 0.400000\n",
      "P( N | la )= 0.600000\n",
      "P( la | DT )= 0.500000\n",
      "P( la | N )= 0.428571\n"
     ]
    }
   ],
   "source": [
    "def ejercicio4(dic, w):\n",
    "    \n",
    "    for k,v in dic[w][1].items():\n",
    "        print(f'P( {k} | {w} )= {v/dic[w][0]:.6f}')\n",
    "    \n",
    "    for k,v in dic[w][1].items():\n",
    "        cont=0\n",
    "        for i in dic:\n",
    "            if k in dic[i][1]:\n",
    "                cont+=dic[i][1][k]\n",
    "        print(f'P( {w} | {k} )= {v/cont:.6f}')\n",
    "        \n",
    "ejercicio4(dik, \"la\")"
   ]
  },
  {
   "cell_type": "code",
   "execution_count": null,
   "metadata": {},
   "outputs": [],
   "source": []
  },
  {
   "cell_type": "code",
   "execution_count": null,
   "metadata": {},
   "outputs": [],
   "source": []
  },
  {
   "cell_type": "code",
   "execution_count": null,
   "metadata": {},
   "outputs": [],
   "source": []
  }
 ],
 "metadata": {
  "kernelspec": {
   "display_name": "Python 3 (ipykernel)",
   "language": "python",
   "name": "python3"
  },
  "language_info": {
   "codemirror_mode": {
    "name": "ipython",
    "version": 3
   },
   "file_extension": ".py",
   "mimetype": "text/x-python",
   "name": "python",
   "nbconvert_exporter": "python",
   "pygments_lexer": "ipython3",
   "version": "3.11.7"
  }
 },
 "nbformat": 4,
 "nbformat_minor": 4
}
